{
  "nbformat": 4,
  "nbformat_minor": 0,
  "metadata": {
    "colab": {
      "provenance": [],
      "authorship_tag": "ABX9TyNQ/TF4iRMDNpE93Zv1Ik9r",
      "include_colab_link": true
    },
    "kernelspec": {
      "name": "python3",
      "display_name": "Python 3"
    },
    "language_info": {
      "name": "python"
    },
    "accelerator": "GPU",
    "gpuClass": "standard"
  },
  "cells": [
    {
      "cell_type": "markdown",
      "metadata": {
        "id": "view-in-github",
        "colab_type": "text"
      },
      "source": [
        "<a href=\"https://colab.research.google.com/github/Pasn2/NeuronNetworks/blob/main/Druga_siec_neuronowa%20z%20funkcja.ipynb\" target=\"_parent\"><img src=\"https://colab.research.google.com/assets/colab-badge.svg\" alt=\"Open In Colab\"/></a>"
      ]
    },
    {
      "cell_type": "code",
      "source": [
        "from tensorflow.python import metrics\n",
        "from tensorflow.python.framework.func_graph import flatten\n",
        "import tensorflow as tf\n",
        "from tensorflow import keras\n",
        "from tensorflow.keras import layers\n",
        "from tensorflow.keras.datasets import cifar10\n",
        "(x_train,y_train), (x_test,y_test) = cifar10.load_data()\n",
        "x_train = x_train.astype(\"float32\") / 255.0\n",
        "x_test = x_test.astype(\"float32\") / 255.0\n",
        "\n",
        "\n",
        "def my_model():\n",
        "  inputs = keras.Input(shape=(32,32,3))\n",
        "  x = layers.Conv2D(32,3)(inputs)\n",
        "  x = layers.BatchNormalization()(x)\n",
        "  x = keras.activations.relu(x)\n",
        "  x = layers.MaxPooling2D()(x)\n",
        "  x = layers.Conv2D(64,5,padding=\"same\")(x)\n",
        "  x = layers.BatchNormalization()(x)\n",
        "  x = keras.activations.relu(x)\n",
        "  x = layers.Conv2D(128,3)(x)\n",
        "  x = layers.BatchNormalization()(x)\n",
        "  x = keras.activations.relu(x)\n",
        "  x = layers.Flatten()(x)\n",
        "  x = layers.Dense(64,activation=\"relu\")(x)\n",
        "  outputs = layers.Dense(10)(x)\n",
        "  model = keras.Model(inputs=inputs,outputs=outputs)\n",
        "  return model\n",
        "model = my_model()\n",
        "print(model.summary())\n",
        "model.compile(\n",
        "    loss =keras.losses.SparseCategoricalCrossentropy(from_logits=True),\n",
        "    optimizer=keras.optimizers.Adam(lr=3e-4),\n",
        "    metrics=[\"accuracy\"],\n",
        ")\n",
        "model.fit(x_train,y_train,batch_size=64,epochs=10,verbose=2)\n",
        "model.evaluate(x_test,y_test,batch_size=64,verbose=2)"
      ],
      "metadata": {
        "colab": {
          "base_uri": "https://localhost:8080/"
        },
        "id": "0jDHlRACa45V",
        "outputId": "d8e38097-2e2e-4e80-c7d6-c671e6a949d6"
      },
      "execution_count": 9,
      "outputs": [
        {
          "output_type": "stream",
          "name": "stdout",
          "text": [
            "Model: \"model_3\"\n",
            "_________________________________________________________________\n",
            " Layer (type)                Output Shape              Param #   \n",
            "=================================================================\n",
            " input_8 (InputLayer)        [(None, 32, 32, 3)]       0         \n",
            "                                                                 \n",
            " conv2d_18 (Conv2D)          (None, 30, 30, 32)        896       \n",
            "                                                                 \n",
            " batch_normalization_14 (Bat  (None, 30, 30, 32)       128       \n",
            " chNormalization)                                                \n",
            "                                                                 \n",
            " tf.nn.relu_13 (TFOpLambda)  (None, 30, 30, 32)        0         \n",
            "                                                                 \n",
            " max_pooling2d_7 (MaxPooling  (None, 15, 15, 32)       0         \n",
            " 2D)                                                             \n",
            "                                                                 \n",
            " conv2d_19 (Conv2D)          (None, 15, 15, 64)        51264     \n",
            "                                                                 \n",
            " batch_normalization_15 (Bat  (None, 15, 15, 64)       256       \n",
            " chNormalization)                                                \n",
            "                                                                 \n",
            " tf.nn.relu_14 (TFOpLambda)  (None, 15, 15, 64)        0         \n",
            "                                                                 \n",
            " conv2d_20 (Conv2D)          (None, 13, 13, 128)       73856     \n",
            "                                                                 \n",
            " batch_normalization_16 (Bat  (None, 13, 13, 128)      512       \n",
            " chNormalization)                                                \n",
            "                                                                 \n",
            " tf.nn.relu_15 (TFOpLambda)  (None, 13, 13, 128)       0         \n",
            "                                                                 \n",
            " flatten_5 (Flatten)         (None, 21632)             0         \n",
            "                                                                 \n",
            " dense_10 (Dense)            (None, 256)               5538048   \n",
            "                                                                 \n",
            " dense_11 (Dense)            (None, 10)                2570      \n",
            "                                                                 \n",
            "=================================================================\n",
            "Total params: 5,667,530\n",
            "Trainable params: 5,667,082\n",
            "Non-trainable params: 448\n",
            "_________________________________________________________________\n",
            "None\n"
          ]
        },
        {
          "output_type": "stream",
          "name": "stderr",
          "text": [
            "/usr/local/lib/python3.8/dist-packages/keras/optimizers/optimizer_v2/adam.py:110: UserWarning: The `lr` argument is deprecated, use `learning_rate` instead.\n",
            "  super(Adam, self).__init__(name, **kwargs)\n"
          ]
        },
        {
          "output_type": "stream",
          "name": "stdout",
          "text": [
            "Epoch 1/10\n",
            "782/782 - 6s - loss: 1.2825 - accuracy: 0.5472 - 6s/epoch - 7ms/step\n",
            "Epoch 2/10\n",
            "782/782 - 5s - loss: 0.8623 - accuracy: 0.6994 - 5s/epoch - 7ms/step\n",
            "Epoch 3/10\n",
            "782/782 - 5s - loss: 0.7092 - accuracy: 0.7519 - 5s/epoch - 7ms/step\n",
            "Epoch 4/10\n",
            "782/782 - 5s - loss: 0.5904 - accuracy: 0.7960 - 5s/epoch - 7ms/step\n",
            "Epoch 5/10\n",
            "782/782 - 5s - loss: 0.4961 - accuracy: 0.8279 - 5s/epoch - 7ms/step\n",
            "Epoch 6/10\n",
            "782/782 - 5s - loss: 0.4172 - accuracy: 0.8564 - 5s/epoch - 7ms/step\n",
            "Epoch 7/10\n",
            "782/782 - 5s - loss: 0.3428 - accuracy: 0.8815 - 5s/epoch - 7ms/step\n",
            "Epoch 8/10\n",
            "782/782 - 5s - loss: 0.2682 - accuracy: 0.9095 - 5s/epoch - 7ms/step\n",
            "Epoch 9/10\n",
            "782/782 - 5s - loss: 0.2171 - accuracy: 0.9293 - 5s/epoch - 7ms/step\n",
            "Epoch 10/10\n",
            "782/782 - 5s - loss: 0.1669 - accuracy: 0.9450 - 5s/epoch - 7ms/step\n",
            "157/157 - 1s - loss: 1.1073 - accuracy: 0.7066 - 679ms/epoch - 4ms/step\n"
          ]
        },
        {
          "output_type": "execute_result",
          "data": {
            "text/plain": [
              "[1.1073113679885864, 0.70660001039505]"
            ]
          },
          "metadata": {},
          "execution_count": 9
        }
      ]
    },
    {
      "cell_type": "markdown",
      "source": [],
      "metadata": {
        "id": "3S13dyTNy-5-"
      }
    }
  ]
}