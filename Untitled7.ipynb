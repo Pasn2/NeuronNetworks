{
  "nbformat": 4,
  "nbformat_minor": 0,
  "metadata": {
    "colab": {
      "provenance": [],
      "toc_visible": true,
      "authorship_tag": "ABX9TyPaSukeQGwuyp2udUTquQ7z",
      "include_colab_link": true
    },
    "kernelspec": {
      "name": "python3",
      "display_name": "Python 3"
    },
    "language_info": {
      "name": "python"
    }
  },
  "cells": [
    {
      "cell_type": "markdown",
      "metadata": {
        "id": "view-in-github",
        "colab_type": "text"
      },
      "source": [
        "<a href=\"https://colab.research.google.com/github/Pasn2/NeuronNetworks/blob/main/Untitled7.ipynb\" target=\"_parent\"><img src=\"https://colab.research.google.com/assets/colab-badge.svg\" alt=\"Open In Colab\"/></a>"
      ]
    },
    {
      "cell_type": "code",
      "execution_count": null,
      "metadata": {
        "id": "Iv5RwlYPzEkZ",
        "colab": {
          "base_uri": "https://localhost:8080/"
        },
        "outputId": "13f5ce2b-fd5a-4536-95b5-79b20dc9e514"
      },
      "outputs": [
        {
          "output_type": "stream",
          "name": "stdout",
          "text": [
            "Epoch 1/2\n",
            " 357/1875 [====>.........................] - ETA: 4:47 - loss: 0.2643 - accuracy: 0.8433"
          ]
        }
      ],
      "source": [
        "from tensorflow.python.ops.variables import trainable_variables\n",
        "import tensorflow as tf\n",
        "from tensorflow import keras\n",
        "from tensorflow.keras import layers\n",
        "from tensorflow.keras.datasets import mnist\n",
        "\n",
        "(x_train,y_train),(x_test,y_test) = mnist.load_data()\n",
        "x_train = x_train.reshape(-1,28,28,1).astype(\"float32\")/255.0\n",
        "x_test = x_test.reshape(-1,28,28,1).astype(\"float32\")/255.0\n",
        "model = keras.Sequential([\n",
        "    layers.Input(shape=(28,28,1)),\n",
        "    layers.Conv2D(64,3,padding=\"same\"),\n",
        "    layers.ReLU(),\n",
        "    layers.Conv2D(128,3,padding=\"same\"),\n",
        "    layers.ReLU(),\n",
        "    layers.Flatten(),\n",
        "    layers.Dense(10),\n",
        "])\n",
        "class CustomFit(keras.Model):\n",
        "  def __init__(self,model):\n",
        "    super(CustomFit,self).__init__()\n",
        "    self.model = model\n",
        "  def compile(self,optimizer,loss):\n",
        "    super(CustomFit,self).compile()\n",
        "    self.optimizer = optimizer\n",
        "    self.loss = loss\n",
        "  def train_step(self,data):\n",
        "    x,y=data\n",
        "    with tf.GradientTape() as tape:\n",
        "        y_pred = self.model(x,training=True)\n",
        "        loss = self.loss(y,y_pred)\n",
        "    training_var = self.trainable_variables\n",
        "    gradients = tape.gradient(loss,training_var)\n",
        "    self.optimizer.apply_gradients(zip(gradients,training_var))\n",
        "    acc_met.update_state(y,y_pred)\n",
        "    return {\"loss\" : loss, \"accuracy\" : acc_met.result()}\n",
        "  def test_step(self,data):\n",
        "    x,y = data\n",
        "\n",
        "    y_pred = self.model(x,training=False)\n",
        "    loss = self.loss(y,y_pred)\n",
        "    acc_met.update_state(y,y_pred)\n",
        "    return {\"loss\" : loss, \"accuracy\" : acc_met.result()}\n",
        "\n",
        "acc_met = keras.metrics.SparseCategoricalAccuracy(name=\"accuracy\")\n",
        "training = CustomFit(model)\n",
        "training.compile(\n",
        "    optimizer=keras.optimizers.Adam(),\n",
        "    loss=keras.losses.SparseCategoricalCrossentropy(from_logits=True),\n",
        "    \n",
        ")\n",
        "training.fit(x_train,y_train,batch_size=32,epochs=2)\n",
        "training.evaluate(x_test,y_test,batch_size=32)"
      ]
    },
    {
      "cell_type": "markdown",
      "source": [
        "# Nowa sekcja"
      ],
      "metadata": {
        "id": "J6fD4YYpsBUz"
      }
    }
  ]
}