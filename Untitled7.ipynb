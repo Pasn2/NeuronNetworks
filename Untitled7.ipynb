{
  "cells": [
    {
      "cell_type": "markdown",
      "metadata": {
        "id": "view-in-github",
        "colab_type": "text"
      },
      "source": [
        "<a href=\"https://colab.research.google.com/github/Pasn2/NeuronNetworks/blob/main/Untitled7.ipynb\" target=\"_parent\"><img src=\"https://colab.research.google.com/assets/colab-badge.svg\" alt=\"Open In Colab\"/></a>"
      ]
    },
    {
      "cell_type": "code",
      "execution_count": null,
      "metadata": {
        "colab": {
          "background_save": true,
          "base_uri": "https://localhost:8080/"
        },
        "id": "Iv5RwlYPzEkZ",
        "outputId": "39aca1ce-c7ee-4223-9438-1cdca398f6fb"
      },
      "outputs": [
        {
          "name": "stdout",
          "output_type": "stream",
          "text": [
            "Epoch 1/2\n",
            "1875/1875 [==============================] - 354s 189ms/step - loss: 0.1132 - accuracy: 0.9315\n",
            "Epoch 2/2\n",
            "1875/1875 [==============================] - 349s 186ms/step - loss: 0.0431 - accuracy: 0.9723\n",
            "313/313 [==============================] - 17s 55ms/step - loss: 0.0455 - accuracy: 0.9765\n"
          ]
        },
        {
          "data": {
            "text/plain": [
              "[0.9769769310951233, 0.0010274106170982122]"
            ]
          },
          "execution_count": 20,
          "metadata": {},
          "output_type": "execute_result"
        }
      ],
      "source": [
        "from tensorflow.python.ops.variables import trainable_variables\n",
        "import tensorflow as tf\n",
        "from tensorflow import keras\n",
        "from tensorflow.keras import layers\n",
        "from tensorflow.keras.datasets import mnist\n",
        "\n",
        "(x_train,y_train),(x_test,y_test) = mnist.load_data()\n",
        "x_train = x_train.reshape(-1,28,28,1).astype(\"float32\")/255.0\n",
        "x_test = x_test.reshape(-1,28,28,1).astype(\"float32\")/255.0\n",
        "model = keras.Sequential([\n",
        "    layers.Input(shape=(28,28,1)),\n",
        "    layers.Conv2D(64,3,padding=\"same\"),\n",
        "    layers.ReLU(),\n",
        "    layers.Conv2D(128,3,padding=\"same\"),\n",
        "    layers.ReLU(),\n",
        "    layers.Flatten(),\n",
        "    layers.Dense(10),\n",
        "])\n",
        "class CustomFit(keras.Model):\n",
        "  def __init__(self,model):\n",
        "    super(CustomFit,self).__init__()\n",
        "    self.model = model\n",
        "  def compile(self,optimizer,loss):\n",
        "    super(CustomFit,self).compile()\n",
        "    self.optimizer = optimizer\n",
        "    self.loss = loss\n",
        "  def train_step(self,data):\n",
        "    x,y=data\n",
        "    with tf.GradientTape() as tape:\n",
        "        y_pred = self.model(x,training=True)\n",
        "        loss = self.loss(y,y_pred)\n",
        "    training_var = self.trainable_variables\n",
        "    gradients = tape.gradient(loss,training_var)\n",
        "    self.optimizer.apply_gradients(zip(gradients,training_var))\n",
        "    acc_met.update_state(y,y_pred)\n",
        "    return {\"loss\" : loss, \"accuracy\" : acc_met.result()}\n",
        "  def test_step(self,data):\n",
        "    x,y = data\n",
        "\n",
        "    y_pred = self.model(x,training=False)\n",
        "    loss = self.loss(y,y_pred)\n",
        "    acc_met.update_state(y,y_pred)\n",
        "    return {\"loss\" : loss, \"accuracy\" : acc_met.result()}\n",
        "\n",
        "acc_met = keras.metrics.SparseCategoricalAccuracy(name=\"accuracy\")\n",
        "training = CustomFit(model)\n",
        "training.compile(\n",
        "    optimizer=keras.optimizers.Adam(),\n",
        "    loss=keras.losses.SparseCategoricalCrossentropy(from_logits=True),\n",
        "    \n",
        ")\n",
        "training.fit(x_train,y_train,batch_size=32,epochs=2)\n",
        "training.evaluate(x_test,y_test,batch_size=32)"
      ]
    },
    {
      "cell_type": "markdown",
      "metadata": {
        "id": "J6fD4YYpsBUz"
      },
      "source": [
        "# Nowa sekcja"
      ]
    }
  ],
  "metadata": {
    "colab": {
      "toc_visible": true,
      "provenance": [],
      "authorship_tag": "ABX9TyPaSukeQGwuyp2udUTquQ7z",
      "include_colab_link": true
    },
    "kernelspec": {
      "display_name": "Python 3",
      "name": "python3"
    },
    "language_info": {
      "name": "python"
    }
  },
  "nbformat": 4,
  "nbformat_minor": 0
}