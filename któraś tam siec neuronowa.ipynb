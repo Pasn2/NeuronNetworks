{
  "nbformat": 4,
  "nbformat_minor": 0,
  "metadata": {
    "colab": {
      "provenance": [],
      "mount_file_id": "1dks3lXQWM7F3FPgIFZkuY0gPk5Q-uYJx",
      "authorship_tag": "ABX9TyPAoVDz2asLDxy3qHSAef1u",
      "include_colab_link": true
    },
    "kernelspec": {
      "name": "python3",
      "display_name": "Python 3"
    },
    "language_info": {
      "name": "python"
    },
    "accelerator": "GPU",
    "gpuClass": "standard"
  },
  "cells": [
    {
      "cell_type": "markdown",
      "metadata": {
        "id": "view-in-github",
        "colab_type": "text"
      },
      "source": [
        "<a href=\"https://colab.research.google.com/github/Pasn2/NeuronNetworks/blob/main/kt%C3%B3ra%C5%9B%20tam%20siec%20neuronowa.ipynb\" target=\"_parent\"><img src=\"https://colab.research.google.com/assets/colab-badge.svg\" alt=\"Open In Colab\"/></a>"
      ]
    },
    {
      "cell_type": "code",
      "source": [
        "from tensorflow.python.ops.init_ops_v2 import Initializer\n",
        "import tensorflow as tf\n",
        "from tensorflow import keras\n",
        "from tensorflow.keras import layers, regularizers\n",
        "from tensorflow.keras.datasets import mnist\n",
        "\n",
        "import pandas as pd\n",
        "\n",
        "(x_train,y_train),(x_test,y_test) = mnist.load_data()\n",
        "x_train = x_train.reshape(-1,28 * 28).astype(\"float32\") / 255.0\n",
        "x_test = x_test.reshape(-1,28*28).astype(\"float32\") / 255.0\n",
        "class Dense(layers.Layer):\n",
        "  def __init__(self,units):\n",
        "    super(Dense,self).__init__()\n",
        "    self.units = units\n",
        "  def build(self,input_shape):\n",
        "    self.w = self.add_weight(\n",
        "        name=\"w\",\n",
        "        shape=(input_shape[-1],self.units),\n",
        "        initializer=\"random_normal\",\n",
        "        trainable=True,\n",
        "    )\n",
        "    self.b = self.add_weight(\n",
        "        name=\"b\",\n",
        "        shape=(self.units,),\n",
        "        initializer=\"zeros\",\n",
        "        trainable=True,\n",
        "    )\n",
        "  def call(self,inputs):\n",
        "    return tf.matmul(inputs,self.w) + self.b\n",
        "class MyRelu(layers.Layer):\n",
        "  def __init__(self):\n",
        "    super(MyRelu,self).__init__()\n",
        "  def call(self,x):\n",
        "    return tf.math.maximum(x,0)\n",
        "class MyModel(keras.Model):\n",
        "  def __init__(self,num_classes=10):\n",
        "    super(MyModel,self).__init__()\n",
        "    self.dense1 = Dense(64)\n",
        "    self.dense2 = Dense(num_classes)\n",
        "    self.relu = MyRelu()\n",
        "  def call(self,input_tensor):\n",
        "    x = self.relu(self.dense1(input_tensor))\n",
        "    return self.dense2(x)\n",
        "model = MyModel()\n",
        "\n",
        "model.compile(\n",
        "    optimizer = keras.optimizers.Adam(),\n",
        "    loss = keras.losses.SparseCategoricalCrossentropy(from_logits = True),\n",
        "    metrics = [\"accuracy\"],\n",
        ")\n",
        "model.fit(x_train,y_train,batch_size=32,epochs=2,verbose=2)\n",
        "model.evaluate(x_test,y_test,batch_size=32,verbose=2)"
      ],
      "metadata": {
        "id": "0jDHlRACa45V",
        "colab": {
          "base_uri": "https://localhost:8080/"
        },
        "outputId": "5076a007-14bc-42b8-c9fe-adae886c10e0"
      },
      "execution_count": 3,
      "outputs": [
        {
          "output_type": "stream",
          "name": "stdout",
          "text": [
            "Epoch 1/2\n",
            "1875/1875 - 3s - loss: 0.3464 - accuracy: 0.9061 - 3s/epoch - 2ms/step\n",
            "Epoch 2/2\n",
            "1875/1875 - 3s - loss: 0.1623 - accuracy: 0.9528 - 3s/epoch - 2ms/step\n",
            "313/313 - 1s - loss: 0.1304 - accuracy: 0.9611 - 571ms/epoch - 2ms/step\n"
          ]
        },
        {
          "output_type": "execute_result",
          "data": {
            "text/plain": [
              "[0.13043607771396637, 0.9610999822616577]"
            ]
          },
          "metadata": {},
          "execution_count": 3
        }
      ]
    },
    {
      "cell_type": "markdown",
      "source": [],
      "metadata": {
        "id": "3S13dyTNy-5-"
      }
    }
  ]
}