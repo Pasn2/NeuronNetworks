{
  "nbformat": 4,
  "nbformat_minor": 0,
  "metadata": {
    "colab": {
      "provenance": [],
      "authorship_tag": "ABX9TyP6PM6cjo0EQXugVeZ+svef",
      "include_colab_link": true
    },
    "kernelspec": {
      "name": "python3",
      "display_name": "Python 3"
    },
    "language_info": {
      "name": "python"
    },
    "accelerator": "GPU",
    "gpuClass": "standard"
  },
  "cells": [
    {
      "cell_type": "markdown",
      "metadata": {
        "id": "view-in-github",
        "colab_type": "text"
      },
      "source": [
        "<a href=\"https://colab.research.google.com/github/Pasn2/NeuronNetworks/blob/main/Druga_siec_neuronowa.ipynb\" target=\"_parent\"><img src=\"https://colab.research.google.com/assets/colab-badge.svg\" alt=\"Open In Colab\"/></a>"
      ]
    },
    {
      "cell_type": "code",
      "source": [
        "from tensorflow.python import metrics\n",
        "from tensorflow.python.framework.func_graph import flatten\n",
        "import tensorflow as tf\n",
        "from tensorflow import keras\n",
        "from tensorflow.keras import layers\n",
        "from tensorflow.keras.datasets import cifar10\n",
        "(x_train,y_train), (x_test,y_test) = cifar10.load_data()\n",
        "x_train = x_train.astype(\"float32\") / 255.0\n",
        "x_test = x_test.astype(\"float32\") / 255.0\n",
        "\n",
        "model = keras.Sequential(\n",
        "    [\n",
        "        keras.Input(shape=(32,32,3)),\n",
        "        layers.Conv2D(32,3,padding=\"valid\",activation =\"relu\"),\n",
        "        layers.MaxPooling2D(pool_size=(2,2)),\n",
        "        layers.Conv2D(64,3,activation=\"relu\"),\n",
        "        layers.MaxPooling2D(),\n",
        "        layers.Conv2D(128,3,activation=\"relu\"),\n",
        "        layers.Flatten(),\n",
        "        layers.Dense(64,activation=\"relu\"),\n",
        "        layers.Dense(10),\n",
        "    ]\n",
        ")\n",
        "print(model.summary())\n",
        "model.compile(\n",
        "    loss =keras.losses.SparseCategoricalCrossentropy(from_logits=True),\n",
        "    optimizer=keras.optimizers.Adam(lr=3e-4),\n",
        "    metrics=[\"accuracy\"],\n",
        ")\n",
        "model.fit(x_train,y_train,batch_size=64,epochs=10,verbose=2)\n",
        "model.evaluate(x_test,y_test,batch_size=64,verbose=2)"
      ],
      "metadata": {
        "colab": {
          "base_uri": "https://localhost:8080/"
        },
        "id": "0jDHlRACa45V",
        "outputId": "ae9824e8-9b8b-412a-a5e7-274609e1f607"
      },
      "execution_count": 15,
      "outputs": [
        {
          "output_type": "stream",
          "name": "stdout",
          "text": [
            "Model: \"sequential_7\"\n",
            "_________________________________________________________________\n",
            " Layer (type)                Output Shape              Param #   \n",
            "=================================================================\n",
            " conv2d_22 (Conv2D)          (None, 30, 30, 32)        896       \n",
            "                                                                 \n",
            " max_pooling2d_15 (MaxPoolin  (None, 15, 15, 32)       0         \n",
            " g2D)                                                            \n",
            "                                                                 \n",
            " conv2d_23 (Conv2D)          (None, 13, 13, 64)        18496     \n",
            "                                                                 \n",
            " max_pooling2d_16 (MaxPoolin  (None, 6, 6, 64)         0         \n",
            " g2D)                                                            \n",
            "                                                                 \n",
            " conv2d_24 (Conv2D)          (None, 4, 4, 128)         73856     \n",
            "                                                                 \n",
            " flatten_6 (Flatten)         (None, 2048)              0         \n",
            "                                                                 \n",
            " dense_14 (Dense)            (None, 64)                131136    \n",
            "                                                                 \n",
            " dense_15 (Dense)            (None, 10)                650       \n",
            "                                                                 \n",
            "=================================================================\n",
            "Total params: 225,034\n",
            "Trainable params: 225,034\n",
            "Non-trainable params: 0\n",
            "_________________________________________________________________\n",
            "None\n",
            "Epoch 1/10\n",
            "782/782 - 3s - loss: 1.6755 - accuracy: 0.3889 - 3s/epoch - 4ms/step\n",
            "Epoch 2/10\n",
            "782/782 - 3s - loss: 1.3537 - accuracy: 0.5174 - 3s/epoch - 3ms/step\n",
            "Epoch 3/10\n",
            "782/782 - 3s - loss: 1.2282 - accuracy: 0.5630 - 3s/epoch - 3ms/step\n",
            "Epoch 4/10\n",
            "782/782 - 3s - loss: 1.1288 - accuracy: 0.6036 - 3s/epoch - 3ms/step\n",
            "Epoch 5/10\n",
            "782/782 - 3s - loss: 1.0475 - accuracy: 0.6333 - 3s/epoch - 3ms/step\n",
            "Epoch 6/10\n",
            "782/782 - 3s - loss: 0.9868 - accuracy: 0.6548 - 3s/epoch - 3ms/step\n",
            "Epoch 7/10\n",
            "782/782 - 3s - loss: 0.9342 - accuracy: 0.6749 - 3s/epoch - 3ms/step\n",
            "Epoch 8/10\n",
            "782/782 - 3s - loss: 0.8910 - accuracy: 0.6907 - 3s/epoch - 3ms/step\n",
            "Epoch 9/10\n",
            "782/782 - 3s - loss: 0.8497 - accuracy: 0.7053 - 3s/epoch - 3ms/step\n",
            "Epoch 10/10\n",
            "782/782 - 3s - loss: 0.8124 - accuracy: 0.7187 - 3s/epoch - 4ms/step\n",
            "157/157 - 0s - loss: 0.8763 - accuracy: 0.7008 - 459ms/epoch - 3ms/step\n"
          ]
        },
        {
          "output_type": "execute_result",
          "data": {
            "text/plain": [
              "[0.8763015866279602, 0.7008000016212463]"
            ]
          },
          "metadata": {},
          "execution_count": 15
        }
      ]
    },
    {
      "cell_type": "markdown",
      "source": [],
      "metadata": {
        "id": "3S13dyTNy-5-"
      }
    }
  ]
}